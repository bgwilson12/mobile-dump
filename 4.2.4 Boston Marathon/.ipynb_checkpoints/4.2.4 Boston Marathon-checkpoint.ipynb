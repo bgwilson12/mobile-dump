{
 "cells": [
  {
   "cell_type": "code",
   "execution_count": 1,
   "metadata": {},
   "outputs": [],
   "source": [
    "import numpy as np\n",
    "import pandas as pd\n",
    "import matplotlib.pyplot as plt"
   ]
  },
  {
   "cell_type": "code",
   "execution_count": 2,
   "metadata": {},
   "outputs": [
    {
     "name": "stdout",
     "output_type": "stream",
     "text": [
      "Number of rows in dataset: 31984\n"
     ]
    },
    {
     "data": {
      "text/html": [
       "<div>\n",
       "<style scoped>\n",
       "    .dataframe tbody tr th:only-of-type {\n",
       "        vertical-align: middle;\n",
       "    }\n",
       "\n",
       "    .dataframe tbody tr th {\n",
       "        vertical-align: top;\n",
       "    }\n",
       "\n",
       "    .dataframe thead th {\n",
       "        text-align: right;\n",
       "    }\n",
       "</style>\n",
       "<table border=\"1\" class=\"dataframe\">\n",
       "  <thead>\n",
       "    <tr style=\"text-align: right;\">\n",
       "      <th></th>\n",
       "      <th>10k</th>\n",
       "      <th>name</th>\n",
       "      <th>division</th>\n",
       "      <th>25k</th>\n",
       "      <th>gender</th>\n",
       "      <th>age</th>\n",
       "      <th>official</th>\n",
       "      <th>bib</th>\n",
       "      <th>genderdiv</th>\n",
       "      <th>ctz</th>\n",
       "      <th>...</th>\n",
       "      <th>overall</th>\n",
       "      <th>pace</th>\n",
       "      <th>state</th>\n",
       "      <th>30k</th>\n",
       "      <th>5k</th>\n",
       "      <th>half</th>\n",
       "      <th>20k</th>\n",
       "      <th>country</th>\n",
       "      <th>city</th>\n",
       "      <th>40k</th>\n",
       "    </tr>\n",
       "  </thead>\n",
       "  <tbody>\n",
       "    <tr>\n",
       "      <th>0</th>\n",
       "      <td>17.37</td>\n",
       "      <td>Yamamoto, Hiroyuki</td>\n",
       "      <td>8</td>\n",
       "      <td>47.67</td>\n",
       "      <td>M</td>\n",
       "      <td>47</td>\n",
       "      <td>85.25</td>\n",
       "      <td>W1</td>\n",
       "      <td>8</td>\n",
       "      <td>NaN</td>\n",
       "      <td>...</td>\n",
       "      <td>8</td>\n",
       "      <td>3.27</td>\n",
       "      <td>NaN</td>\n",
       "      <td>59.18</td>\n",
       "      <td>8.02</td>\n",
       "      <td>39.72</td>\n",
       "      <td>37.65</td>\n",
       "      <td>JPN</td>\n",
       "      <td>Fukuoka</td>\n",
       "      <td>80.43</td>\n",
       "    </tr>\n",
       "    <tr>\n",
       "      <th>1</th>\n",
       "      <td>32.58</td>\n",
       "      <td>Jeptoo, Rita</td>\n",
       "      <td>1</td>\n",
       "      <td>82.43</td>\n",
       "      <td>F</td>\n",
       "      <td>33</td>\n",
       "      <td>138.95</td>\n",
       "      <td>F1</td>\n",
       "      <td>1</td>\n",
       "      <td>NaN</td>\n",
       "      <td>...</td>\n",
       "      <td>21</td>\n",
       "      <td>5.30</td>\n",
       "      <td>NaN</td>\n",
       "      <td>99.33</td>\n",
       "      <td>16.22</td>\n",
       "      <td>69.47</td>\n",
       "      <td>65.83</td>\n",
       "      <td>KEN</td>\n",
       "      <td>Eldoret</td>\n",
       "      <td>132.10</td>\n",
       "    </tr>\n",
       "    <tr>\n",
       "      <th>2</th>\n",
       "      <td>16.62</td>\n",
       "      <td>Van Dyk, Ernst F.</td>\n",
       "      <td>1</td>\n",
       "      <td>45.80</td>\n",
       "      <td>M</td>\n",
       "      <td>41</td>\n",
       "      <td>80.60</td>\n",
       "      <td>W2</td>\n",
       "      <td>1</td>\n",
       "      <td>NaN</td>\n",
       "      <td>...</td>\n",
       "      <td>1</td>\n",
       "      <td>3.08</td>\n",
       "      <td>NaN</td>\n",
       "      <td>56.45</td>\n",
       "      <td>7.75</td>\n",
       "      <td>38.03</td>\n",
       "      <td>36.10</td>\n",
       "      <td>RSA</td>\n",
       "      <td>Paarl</td>\n",
       "      <td>76.10</td>\n",
       "    </tr>\n",
       "    <tr>\n",
       "      <th>3</th>\n",
       "      <td>32.57</td>\n",
       "      <td>Dibaba, Mare</td>\n",
       "      <td>3</td>\n",
       "      <td>82.43</td>\n",
       "      <td>F</td>\n",
       "      <td>24</td>\n",
       "      <td>140.58</td>\n",
       "      <td>F2</td>\n",
       "      <td>3</td>\n",
       "      <td>NaN</td>\n",
       "      <td>...</td>\n",
       "      <td>27</td>\n",
       "      <td>5.37</td>\n",
       "      <td>NaN</td>\n",
       "      <td>99.33</td>\n",
       "      <td>16.20</td>\n",
       "      <td>69.47</td>\n",
       "      <td>65.83</td>\n",
       "      <td>ETH</td>\n",
       "      <td>Shoa</td>\n",
       "      <td>132.95</td>\n",
       "    </tr>\n",
       "    <tr>\n",
       "      <th>4</th>\n",
       "      <td>17.12</td>\n",
       "      <td>Hokinoue, Kota</td>\n",
       "      <td>2</td>\n",
       "      <td>46.37</td>\n",
       "      <td>M</td>\n",
       "      <td>40</td>\n",
       "      <td>81.23</td>\n",
       "      <td>W3</td>\n",
       "      <td>2</td>\n",
       "      <td>NaN</td>\n",
       "      <td>...</td>\n",
       "      <td>2</td>\n",
       "      <td>3.10</td>\n",
       "      <td>NaN</td>\n",
       "      <td>57.03</td>\n",
       "      <td>8.02</td>\n",
       "      <td>38.60</td>\n",
       "      <td>36.58</td>\n",
       "      <td>JPN</td>\n",
       "      <td>Nogata Fukuoka</td>\n",
       "      <td>76.72</td>\n",
       "    </tr>\n",
       "  </tbody>\n",
       "</table>\n",
       "<p>5 rows × 21 columns</p>\n",
       "</div>"
      ],
      "text/plain": [
       "     10k                name  division    25k gender  age  official bib  \\\n",
       "0  17.37  Yamamoto, Hiroyuki         8  47.67      M   47     85.25  W1   \n",
       "1  32.58        Jeptoo, Rita         1  82.43      F   33    138.95  F1   \n",
       "2  16.62   Van Dyk, Ernst F.         1  45.80      M   41     80.60  W2   \n",
       "3  32.57        Dibaba, Mare         3  82.43      F   24    140.58  F2   \n",
       "4  17.12      Hokinoue, Kota         2  46.37      M   40     81.23  W3   \n",
       "\n",
       "   genderdiv  ctz   ...   overall  pace  state    30k     5k   half    20k  \\\n",
       "0          8  NaN   ...         8  3.27    NaN  59.18   8.02  39.72  37.65   \n",
       "1          1  NaN   ...        21  5.30    NaN  99.33  16.22  69.47  65.83   \n",
       "2          1  NaN   ...         1  3.08    NaN  56.45   7.75  38.03  36.10   \n",
       "3          3  NaN   ...        27  5.37    NaN  99.33  16.20  69.47  65.83   \n",
       "4          2  NaN   ...         2  3.10    NaN  57.03   8.02  38.60  36.58   \n",
       "\n",
       "  country            city     40k  \n",
       "0     JPN         Fukuoka   80.43  \n",
       "1     KEN         Eldoret  132.10  \n",
       "2     RSA           Paarl   76.10  \n",
       "3     ETH            Shoa  132.95  \n",
       "4     JPN  Nogata Fukuoka   76.72  \n",
       "\n",
       "[5 rows x 21 columns]"
      ]
     },
     "execution_count": 2,
     "metadata": {},
     "output_type": "execute_result"
    }
   ],
   "source": [
    "data_url = ('https://raw.githubusercontent.com/llimllib/'\n",
    "            'bostonmarathon/master/results/2014/results.csv')\n",
    "\n",
    "df_raw = pd.read_csv(data_url)\n",
    "print('Number of rows in dataset: {}'.format(len(df_raw)))\n",
    "df_raw.head()"
   ]
  },
  {
   "cell_type": "code",
   "execution_count": 3,
   "metadata": {},
   "outputs": [
    {
     "data": {
      "text/plain": [
       "Index(['10k', 'name', 'division', '25k', 'gender', 'age', 'official', 'bib',\n",
       "       'genderdiv', 'ctz', '35k', 'overall', 'pace', 'state', '30k', '5k',\n",
       "       'half', '20k', 'country', 'city', '40k'],\n",
       "      dtype='object')"
      ]
     },
     "execution_count": 3,
     "metadata": {},
     "output_type": "execute_result"
    }
   ],
   "source": [
    "df_raw.columns"
   ]
  },
  {
   "cell_type": "markdown",
   "metadata": {},
   "source": [
    "The only column missing from the full dataset head is the 35k split times. Also, a marathon measures 42.2 kilometers. Just wanted to make a note of that going forward."
   ]
  },
  {
   "cell_type": "code",
   "execution_count": 4,
   "metadata": {},
   "outputs": [
    {
     "data": {
      "text/html": [
       "<div>\n",
       "<style scoped>\n",
       "    .dataframe tbody tr th:only-of-type {\n",
       "        vertical-align: middle;\n",
       "    }\n",
       "\n",
       "    .dataframe tbody tr th {\n",
       "        vertical-align: top;\n",
       "    }\n",
       "\n",
       "    .dataframe thead th {\n",
       "        text-align: right;\n",
       "    }\n",
       "</style>\n",
       "<table border=\"1\" class=\"dataframe\">\n",
       "  <thead>\n",
       "    <tr style=\"text-align: right;\">\n",
       "      <th></th>\n",
       "      <th>count</th>\n",
       "      <th>mean</th>\n",
       "      <th>std</th>\n",
       "      <th>min</th>\n",
       "      <th>25%</th>\n",
       "      <th>50%</th>\n",
       "      <th>75%</th>\n",
       "      <th>max</th>\n",
       "    </tr>\n",
       "  </thead>\n",
       "  <tbody>\n",
       "    <tr>\n",
       "      <th>division</th>\n",
       "      <td>31984.0</td>\n",
       "      <td>1932.563032</td>\n",
       "      <td>1715.228694</td>\n",
       "      <td>1.00</td>\n",
       "      <td>610.0000</td>\n",
       "      <td>1425.00</td>\n",
       "      <td>2611.000</td>\n",
       "      <td>6979.00</td>\n",
       "    </tr>\n",
       "    <tr>\n",
       "      <th>age</th>\n",
       "      <td>31984.0</td>\n",
       "      <td>42.407079</td>\n",
       "      <td>11.316496</td>\n",
       "      <td>18.00</td>\n",
       "      <td>33.0000</td>\n",
       "      <td>42.00</td>\n",
       "      <td>50.000</td>\n",
       "      <td>81.00</td>\n",
       "    </tr>\n",
       "    <tr>\n",
       "      <th>official</th>\n",
       "      <td>31984.0</td>\n",
       "      <td>242.997314</td>\n",
       "      <td>52.300431</td>\n",
       "      <td>80.60</td>\n",
       "      <td>205.5275</td>\n",
       "      <td>232.37</td>\n",
       "      <td>273.235</td>\n",
       "      <td>538.88</td>\n",
       "    </tr>\n",
       "    <tr>\n",
       "      <th>genderdiv</th>\n",
       "      <td>31984.0</td>\n",
       "      <td>8051.044741</td>\n",
       "      <td>4754.005626</td>\n",
       "      <td>1.00</td>\n",
       "      <td>3972.0000</td>\n",
       "      <td>7970.00</td>\n",
       "      <td>11968.000</td>\n",
       "      <td>17575.00</td>\n",
       "    </tr>\n",
       "    <tr>\n",
       "      <th>overall</th>\n",
       "      <td>31984.0</td>\n",
       "      <td>15939.587825</td>\n",
       "      <td>9232.978224</td>\n",
       "      <td>1.00</td>\n",
       "      <td>7943.7500</td>\n",
       "      <td>15939.50</td>\n",
       "      <td>23935.250</td>\n",
       "      <td>31931.00</td>\n",
       "    </tr>\n",
       "    <tr>\n",
       "      <th>pace</th>\n",
       "      <td>31984.0</td>\n",
       "      <td>9.275658</td>\n",
       "      <td>1.992486</td>\n",
       "      <td>3.08</td>\n",
       "      <td>7.8500</td>\n",
       "      <td>8.87</td>\n",
       "      <td>10.430</td>\n",
       "      <td>20.57</td>\n",
       "    </tr>\n",
       "  </tbody>\n",
       "</table>\n",
       "</div>"
      ],
      "text/plain": [
       "             count          mean          std    min        25%       50%  \\\n",
       "division   31984.0   1932.563032  1715.228694   1.00   610.0000   1425.00   \n",
       "age        31984.0     42.407079    11.316496  18.00    33.0000     42.00   \n",
       "official   31984.0    242.997314    52.300431  80.60   205.5275    232.37   \n",
       "genderdiv  31984.0   8051.044741  4754.005626   1.00  3972.0000   7970.00   \n",
       "overall    31984.0  15939.587825  9232.978224   1.00  7943.7500  15939.50   \n",
       "pace       31984.0      9.275658     1.992486   3.08     7.8500      8.87   \n",
       "\n",
       "                 75%       max  \n",
       "division    2611.000   6979.00  \n",
       "age           50.000     81.00  \n",
       "official     273.235    538.88  \n",
       "genderdiv  11968.000  17575.00  \n",
       "overall    23935.250  31931.00  \n",
       "pace          10.430     20.57  "
      ]
     },
     "execution_count": 4,
     "metadata": {},
     "output_type": "execute_result"
    }
   ],
   "source": [
    "df_raw.describe().T"
   ]
  },
  {
   "cell_type": "code",
   "execution_count": 5,
   "metadata": {},
   "outputs": [
    {
     "data": {
      "text/plain": [
       "10k              0\n",
       "name             0\n",
       "division         0\n",
       "25k              0\n",
       "gender           0\n",
       "age              0\n",
       "official         0\n",
       "bib              0\n",
       "genderdiv        0\n",
       "ctz          30740\n",
       "35k              0\n",
       "overall          0\n",
       "pace             0\n",
       "state         2576\n",
       "30k              0\n",
       "5k               0\n",
       "half             0\n",
       "20k              0\n",
       "country          0\n",
       "city             1\n",
       "40k              0\n",
       "dtype: int64"
      ]
     },
     "execution_count": 5,
     "metadata": {},
     "output_type": "execute_result"
    }
   ],
   "source": [
    "df_raw.isnull().sum()"
   ]
  },
  {
   "cell_type": "markdown",
   "metadata": {},
   "source": [
    "Hmmm... What is ctz? Why does it only have 1200 values out of 32000? \n",
    "\n",
    "Ah, ok. After looking through the Boston Marathon results page, it seems that ctz means citizenship. All runners have a country, and very few have a different country listed under ctz. Let's verify that really quickly."
   ]
  },
  {
   "cell_type": "code",
   "execution_count": 6,
   "metadata": {},
   "outputs": [
    {
     "data": {
      "text/html": [
       "<div>\n",
       "<style scoped>\n",
       "    .dataframe tbody tr th:only-of-type {\n",
       "        vertical-align: middle;\n",
       "    }\n",
       "\n",
       "    .dataframe tbody tr th {\n",
       "        vertical-align: top;\n",
       "    }\n",
       "\n",
       "    .dataframe thead th {\n",
       "        text-align: right;\n",
       "    }\n",
       "</style>\n",
       "<table border=\"1\" class=\"dataframe\">\n",
       "  <thead>\n",
       "    <tr style=\"text-align: right;\">\n",
       "      <th></th>\n",
       "      <th>10k</th>\n",
       "      <th>name</th>\n",
       "      <th>division</th>\n",
       "      <th>25k</th>\n",
       "      <th>gender</th>\n",
       "      <th>age</th>\n",
       "      <th>official</th>\n",
       "      <th>bib</th>\n",
       "      <th>genderdiv</th>\n",
       "      <th>ctz</th>\n",
       "      <th>...</th>\n",
       "      <th>overall</th>\n",
       "      <th>pace</th>\n",
       "      <th>state</th>\n",
       "      <th>30k</th>\n",
       "      <th>5k</th>\n",
       "      <th>half</th>\n",
       "      <th>20k</th>\n",
       "      <th>country</th>\n",
       "      <th>city</th>\n",
       "      <th>40k</th>\n",
       "    </tr>\n",
       "  </thead>\n",
       "  <tbody>\n",
       "    <tr>\n",
       "      <th>27</th>\n",
       "      <td>18.78</td>\n",
       "      <td>Kim, Gyu Dae</td>\n",
       "      <td>15</td>\n",
       "      <td>50.33</td>\n",
       "      <td>M</td>\n",
       "      <td>30</td>\n",
       "      <td>89.52</td>\n",
       "      <td>W14</td>\n",
       "      <td>15</td>\n",
       "      <td>KOR</td>\n",
       "      <td>...</td>\n",
       "      <td>15</td>\n",
       "      <td>3.42</td>\n",
       "      <td>IL</td>\n",
       "      <td>62.72</td>\n",
       "      <td>8.98</td>\n",
       "      <td>41.82</td>\n",
       "      <td>39.65</td>\n",
       "      <td>USA</td>\n",
       "      <td>Champaign</td>\n",
       "      <td>84.75</td>\n",
       "    </tr>\n",
       "    <tr>\n",
       "      <th>36</th>\n",
       "      <td>19.37</td>\n",
       "      <td>Gordian, Aaron</td>\n",
       "      <td>17</td>\n",
       "      <td>54.20</td>\n",
       "      <td>M</td>\n",
       "      <td>49</td>\n",
       "      <td>95.28</td>\n",
       "      <td>W17</td>\n",
       "      <td>17</td>\n",
       "      <td>MEX</td>\n",
       "      <td>...</td>\n",
       "      <td>18</td>\n",
       "      <td>3.65</td>\n",
       "      <td>AZ</td>\n",
       "      <td>66.62</td>\n",
       "      <td>8.93</td>\n",
       "      <td>44.82</td>\n",
       "      <td>42.47</td>\n",
       "      <td>USA</td>\n",
       "      <td>Phoenix</td>\n",
       "      <td>90.07</td>\n",
       "    </tr>\n",
       "    <tr>\n",
       "      <th>59</th>\n",
       "      <td>21.47</td>\n",
       "      <td>Pulido, Jose Sr.</td>\n",
       "      <td>28</td>\n",
       "      <td>58.30</td>\n",
       "      <td>M</td>\n",
       "      <td>33</td>\n",
       "      <td>104.08</td>\n",
       "      <td>W27</td>\n",
       "      <td>28</td>\n",
       "      <td>MEX</td>\n",
       "      <td>...</td>\n",
       "      <td>34</td>\n",
       "      <td>3.98</td>\n",
       "      <td>GA</td>\n",
       "      <td>72.97</td>\n",
       "      <td>10.08</td>\n",
       "      <td>48.77</td>\n",
       "      <td>46.33</td>\n",
       "      <td>USA</td>\n",
       "      <td>Clarkesville</td>\n",
       "      <td>98.48</td>\n",
       "    </tr>\n",
       "    <tr>\n",
       "      <th>101</th>\n",
       "      <td>30.82</td>\n",
       "      <td>Jami, Segundo O. Sr.</td>\n",
       "      <td>24</td>\n",
       "      <td>78.88</td>\n",
       "      <td>M</td>\n",
       "      <td>27</td>\n",
       "      <td>140.87</td>\n",
       "      <td>45</td>\n",
       "      <td>26</td>\n",
       "      <td>ECU</td>\n",
       "      <td>...</td>\n",
       "      <td>30</td>\n",
       "      <td>5.38</td>\n",
       "      <td>CO</td>\n",
       "      <td>95.97</td>\n",
       "      <td>15.23</td>\n",
       "      <td>66.28</td>\n",
       "      <td>62.78</td>\n",
       "      <td>USA</td>\n",
       "      <td>Boulder</td>\n",
       "      <td>132.67</td>\n",
       "    </tr>\n",
       "    <tr>\n",
       "      <th>110</th>\n",
       "      <td>32.53</td>\n",
       "      <td>Sanca, Ruben</td>\n",
       "      <td>21</td>\n",
       "      <td>81.02</td>\n",
       "      <td>M</td>\n",
       "      <td>27</td>\n",
       "      <td>139.08</td>\n",
       "      <td>50</td>\n",
       "      <td>21</td>\n",
       "      <td>CPV</td>\n",
       "      <td>...</td>\n",
       "      <td>22</td>\n",
       "      <td>5.32</td>\n",
       "      <td>MA</td>\n",
       "      <td>97.65</td>\n",
       "      <td>16.23</td>\n",
       "      <td>68.42</td>\n",
       "      <td>64.95</td>\n",
       "      <td>USA</td>\n",
       "      <td>Lowell</td>\n",
       "      <td>131.40</td>\n",
       "    </tr>\n",
       "  </tbody>\n",
       "</table>\n",
       "<p>5 rows × 21 columns</p>\n",
       "</div>"
      ],
      "text/plain": [
       "       10k                  name  division    25k gender  age  official  bib  \\\n",
       "27   18.78          Kim, Gyu Dae        15  50.33      M   30     89.52  W14   \n",
       "36   19.37        Gordian, Aaron        17  54.20      M   49     95.28  W17   \n",
       "59   21.47      Pulido, Jose Sr.        28  58.30      M   33    104.08  W27   \n",
       "101  30.82  Jami, Segundo O. Sr.        24  78.88      M   27    140.87   45   \n",
       "110  32.53          Sanca, Ruben        21  81.02      M   27    139.08   50   \n",
       "\n",
       "     genderdiv  ctz   ...   overall  pace  state    30k     5k   half    20k  \\\n",
       "27          15  KOR   ...        15  3.42     IL  62.72   8.98  41.82  39.65   \n",
       "36          17  MEX   ...        18  3.65     AZ  66.62   8.93  44.82  42.47   \n",
       "59          28  MEX   ...        34  3.98     GA  72.97  10.08  48.77  46.33   \n",
       "101         26  ECU   ...        30  5.38     CO  95.97  15.23  66.28  62.78   \n",
       "110         21  CPV   ...        22  5.32     MA  97.65  16.23  68.42  64.95   \n",
       "\n",
       "    country          city     40k  \n",
       "27      USA     Champaign   84.75  \n",
       "36      USA       Phoenix   90.07  \n",
       "59      USA  Clarkesville   98.48  \n",
       "101     USA       Boulder  132.67  \n",
       "110     USA        Lowell  131.40  \n",
       "\n",
       "[5 rows x 21 columns]"
      ]
     },
     "execution_count": 6,
     "metadata": {},
     "output_type": "execute_result"
    }
   ],
   "source": [
    "df_raw[df_raw.ctz.notnull()].head()"
   ]
  },
  {
   "cell_type": "markdown",
   "metadata": {},
   "source": [
    "So yes, there are country codes listed in the ctz columns that are different from the country column. My vote is just to drop the whole column... and since no one else can vote on this, it looks like we are just going to drop ctz :) We will do that later. For now, let's keep exploring the data."
   ]
  },
  {
   "cell_type": "code",
   "execution_count": 7,
   "metadata": {},
   "outputs": [
    {
     "data": {
      "text/plain": [
       "count      31983\n",
       "unique      5934\n",
       "top       Boston\n",
       "freq        1034\n",
       "Name: city, dtype: object"
      ]
     },
     "execution_count": 7,
     "metadata": {},
     "output_type": "execute_result"
    }
   ],
   "source": [
    "df_raw.city.describe()"
   ]
  },
  {
   "cell_type": "markdown",
   "metadata": {},
   "source": [
    "We are missing only one city, but there are over 5934 unique cities. This means if we were to make a dummy variable for all of them, we would have almost 6000 new features. I'm not sure if that's something we want. While we are on the subject of categorical variables, let's look at the other categories as well."
   ]
  },
  {
   "cell_type": "code",
   "execution_count": 8,
   "metadata": {},
   "outputs": [
    {
     "data": {
      "text/plain": [
       "count     31984\n",
       "unique       78\n",
       "top         USA\n",
       "freq      27233\n",
       "Name: country, dtype: object"
      ]
     },
     "execution_count": 8,
     "metadata": {},
     "output_type": "execute_result"
    }
   ],
   "source": [
    "df_raw.country.describe()"
   ]
  },
  {
   "cell_type": "code",
   "execution_count": 9,
   "metadata": {},
   "outputs": [
    {
     "data": {
      "text/plain": [
       "count    31984.000000\n",
       "mean      1932.563032\n",
       "std       1715.228694\n",
       "min          1.000000\n",
       "25%        610.000000\n",
       "50%       1425.000000\n",
       "75%       2611.000000\n",
       "max       6979.000000\n",
       "Name: division, dtype: float64"
      ]
     },
     "execution_count": 9,
     "metadata": {},
     "output_type": "execute_result"
    }
   ],
   "source": [
    "df_raw.division.describe()"
   ]
  },
  {
   "cell_type": "code",
   "execution_count": 10,
   "metadata": {},
   "outputs": [
    {
     "data": {
      "image/png": "[encoded data removed]",
      "text/plain": [
       "<matplotlib.figure.Figure at 0x1efeb2422b0>"
      ]
     },
     "metadata": {},
     "output_type": "display_data"
    }
   ],
   "source": [
    "df_raw.groupby('division').official.mean().plot()\n",
    "plt.title('Average time per division')\n",
    "plt.xlabel('Division')\n",
    "plt.ylabel('Avg. Time (minutes)')\n",
    "plt.show()"
   ]
  },
  {
   "cell_type": "markdown",
   "metadata": {},
   "source": [
    "Interesting... I'm not sure how the divisions are determined, but it seems that every so many division numbers, the times get better and then steadily increase until the next dip. Still not sure if I want to keep that many categories though.."
   ]
  },
  {
   "cell_type": "code",
   "execution_count": 11,
   "metadata": {},
   "outputs": [
    {
     "data": {
      "image/png": "[encoded data removed]",
      "text/plain": [
       "<matplotlib.figure.Figure at 0x1efeb2fc9e8>"
      ]
     },
     "metadata": {},
     "output_type": "display_data"
    }
   ],
   "source": [
    "plt.hist(df_raw.age, bins=15)\n",
    "plt.title('Distribution of Ages')\n",
    "plt.xlabel('Ages')\n",
    "plt.ylabel('Frequency')\n",
    "plt.show()"
   ]
  },
  {
   "cell_type": "markdown",
   "metadata": {},
   "source": [
    "It seems there is a spike in racers that are 40 or older.\n"
   ]
  },
  {
   "cell_type": "code",
   "execution_count": 66,
   "metadata": {},
   "outputs": [
    {
     "data": {
      "text/html": [
       "<div>\n",
       "<style scoped>\n",
       "    .dataframe tbody tr th:only-of-type {\n",
       "        vertical-align: middle;\n",
       "    }\n",
       "\n",
       "    .dataframe tbody tr th {\n",
       "        vertical-align: top;\n",
       "    }\n",
       "\n",
       "    .dataframe thead th {\n",
       "        text-align: right;\n",
       "    }\n",
       "</style>\n",
       "<table border=\"1\" class=\"dataframe\">\n",
       "  <thead>\n",
       "    <tr style=\"text-align: right;\">\n",
       "      <th></th>\n",
       "      <th>10k</th>\n",
       "      <th>25k</th>\n",
       "      <th>gender</th>\n",
       "      <th>age</th>\n",
       "      <th>official</th>\n",
       "      <th>genderdiv</th>\n",
       "      <th>35k</th>\n",
       "      <th>overall</th>\n",
       "      <th>pace</th>\n",
       "      <th>30k</th>\n",
       "      <th>...</th>\n",
       "      <th>country_TPE</th>\n",
       "      <th>country_TRI</th>\n",
       "      <th>country_TUR</th>\n",
       "      <th>country_UAE</th>\n",
       "      <th>country_UKR</th>\n",
       "      <th>country_URU</th>\n",
       "      <th>country_USA</th>\n",
       "      <th>country_VEN</th>\n",
       "      <th>country_VGB</th>\n",
       "      <th>country_ZIM</th>\n",
       "    </tr>\n",
       "  </thead>\n",
       "  <tbody>\n",
       "    <tr>\n",
       "      <th>0</th>\n",
       "      <td>17.37</td>\n",
       "      <td>47.67</td>\n",
       "      <td>0</td>\n",
       "      <td>47</td>\n",
       "      <td>85.25</td>\n",
       "      <td>8</td>\n",
       "      <td>71.40</td>\n",
       "      <td>8</td>\n",
       "      <td>3.27</td>\n",
       "      <td>59.18</td>\n",
       "      <td>...</td>\n",
       "      <td>0</td>\n",
       "      <td>0</td>\n",
       "      <td>0</td>\n",
       "      <td>0</td>\n",
       "      <td>0</td>\n",
       "      <td>0</td>\n",
       "      <td>0</td>\n",
       "      <td>0</td>\n",
       "      <td>0</td>\n",
       "      <td>0</td>\n",
       "    </tr>\n",
       "    <tr>\n",
       "      <th>1</th>\n",
       "      <td>32.58</td>\n",
       "      <td>82.43</td>\n",
       "      <td>1</td>\n",
       "      <td>33</td>\n",
       "      <td>138.95</td>\n",
       "      <td>1</td>\n",
       "      <td>116.37</td>\n",
       "      <td>21</td>\n",
       "      <td>5.30</td>\n",
       "      <td>99.33</td>\n",
       "      <td>...</td>\n",
       "      <td>0</td>\n",
       "      <td>0</td>\n",
       "      <td>0</td>\n",
       "      <td>0</td>\n",
       "      <td>0</td>\n",
       "      <td>0</td>\n",
       "      <td>0</td>\n",
       "      <td>0</td>\n",
       "      <td>0</td>\n",
       "      <td>0</td>\n",
       "    </tr>\n",
       "    <tr>\n",
       "      <th>2</th>\n",
       "      <td>16.62</td>\n",
       "      <td>45.80</td>\n",
       "      <td>0</td>\n",
       "      <td>41</td>\n",
       "      <td>80.60</td>\n",
       "      <td>1</td>\n",
       "      <td>67.42</td>\n",
       "      <td>1</td>\n",
       "      <td>3.08</td>\n",
       "      <td>56.45</td>\n",
       "      <td>...</td>\n",
       "      <td>0</td>\n",
       "      <td>0</td>\n",
       "      <td>0</td>\n",
       "      <td>0</td>\n",
       "      <td>0</td>\n",
       "      <td>0</td>\n",
       "      <td>0</td>\n",
       "      <td>0</td>\n",
       "      <td>0</td>\n",
       "      <td>0</td>\n",
       "    </tr>\n",
       "    <tr>\n",
       "      <th>3</th>\n",
       "      <td>32.57</td>\n",
       "      <td>82.43</td>\n",
       "      <td>1</td>\n",
       "      <td>24</td>\n",
       "      <td>140.58</td>\n",
       "      <td>3</td>\n",
       "      <td>116.37</td>\n",
       "      <td>27</td>\n",
       "      <td>5.37</td>\n",
       "      <td>99.33</td>\n",
       "      <td>...</td>\n",
       "      <td>0</td>\n",
       "      <td>0</td>\n",
       "      <td>0</td>\n",
       "      <td>0</td>\n",
       "      <td>0</td>\n",
       "      <td>0</td>\n",
       "      <td>0</td>\n",
       "      <td>0</td>\n",
       "      <td>0</td>\n",
       "      <td>0</td>\n",
       "    </tr>\n",
       "    <tr>\n",
       "      <th>4</th>\n",
       "      <td>17.12</td>\n",
       "      <td>46.37</td>\n",
       "      <td>0</td>\n",
       "      <td>40</td>\n",
       "      <td>81.23</td>\n",
       "      <td>2</td>\n",
       "      <td>67.83</td>\n",
       "      <td>2</td>\n",
       "      <td>3.10</td>\n",
       "      <td>57.03</td>\n",
       "      <td>...</td>\n",
       "      <td>0</td>\n",
       "      <td>0</td>\n",
       "      <td>0</td>\n",
       "      <td>0</td>\n",
       "      <td>0</td>\n",
       "      <td>0</td>\n",
       "      <td>0</td>\n",
       "      <td>0</td>\n",
       "      <td>0</td>\n",
       "      <td>0</td>\n",
       "    </tr>\n",
       "  </tbody>\n",
       "</table>\n",
       "<p>5 rows × 7072 columns</p>\n",
       "</div>"
      ],
      "text/plain": [
       "     10k    25k  gender  age  official  genderdiv     35k  overall  pace  \\\n",
       "0  17.37  47.67       0   47     85.25          8   71.40        8  3.27   \n",
       "1  32.58  82.43       1   33    138.95          1  116.37       21  5.30   \n",
       "2  16.62  45.80       0   41     80.60          1   67.42        1  3.08   \n",
       "3  32.57  82.43       1   24    140.58          3  116.37       27  5.37   \n",
       "4  17.12  46.37       0   40     81.23          2   67.83        2  3.10   \n",
       "\n",
       "     30k     ...      country_TPE country_TRI country_TUR country_UAE  \\\n",
       "0  59.18     ...                0           0           0           0   \n",
       "1  99.33     ...                0           0           0           0   \n",
       "2  56.45     ...                0           0           0           0   \n",
       "3  99.33     ...                0           0           0           0   \n",
       "4  57.03     ...                0           0           0           0   \n",
       "\n",
       "   country_UKR  country_URU  country_USA  country_VEN  country_VGB  \\\n",
       "0            0            0            0            0            0   \n",
       "1            0            0            0            0            0   \n",
       "2            0            0            0            0            0   \n",
       "3            0            0            0            0            0   \n",
       "4            0            0            0            0            0   \n",
       "\n",
       "   country_ZIM  \n",
       "0            0  \n",
       "1            0  \n",
       "2            0  \n",
       "3            0  \n",
       "4            0  \n",
       "\n",
       "[5 rows x 7072 columns]"
      ]
     },
     "execution_count": 66,
     "metadata": {},
     "output_type": "execute_result"
    }
   ],
   "source": [
    "# I've found it's always good to make a copy in case you change your mind about something.\n",
    "df_features = df_raw.copy()\n",
    "df_features['from_mass'] = np.where(df_features['state'] == 'MA', 1, 0)\n",
    "df_features.drop(['ctz', 'city', 'state', 'bib', 'name'], 1, inplace=True)\n",
    "\n",
    "df_features = pd.get_dummies(df_features, columns=['division', 'country'])\n",
    "\n",
    "df_features.replace(to_replace='-', value=np.nan, inplace=True)\n",
    "df_features.gender.replace(to_replace={'F':1, 'M':0}, inplace=True)\n",
    "df_features.dropna(axis=0, inplace=True)\n",
    "\n",
    "df_features.head()"
   ]
  },
  {
   "cell_type": "markdown",
   "metadata": {},
   "source": [
    "First, let's start with MiniBatch K-Means because we have more than 10k samples. According to the flowchart on sklearn, that is too many samples for normal K-Means. "
   ]
  },
  {
   "cell_type": "code",
   "execution_count": 67,
   "metadata": {},
   "outputs": [],
   "source": [
    "X = df_features"
   ]
  },
  {
   "cell_type": "code",
   "execution_count": 76,
   "metadata": {},
   "outputs": [],
   "source": [
    "from sklearn.cluster import MiniBatchKMeans\n",
    "from sklearn.metrics import silhouette_score\n",
    "\n",
    "results = []\n",
    "for clusters in range(2, 7):\n",
    "    mbkm = MiniBatchKMeans(n_clusters=clusters)\n",
    "    y_pred = mbkm.fit_predict(X)\n",
    "    results.append(silhouette_score(X, y_pred))"
   ]
  },
  {
   "cell_type": "code",
   "execution_count": 78,
   "metadata": {},
   "outputs": [
    {
     "data": {
      "text/plain": [
       "[0.5934979038259526,\n",
       " 0.5277088194296328,\n",
       " 0.4823186368838242,\n",
       " 0.4460546928154502,\n",
       " 0.41265973494789]"
      ]
     },
     "execution_count": 78,
     "metadata": {},
     "output_type": "execute_result"
    }
   ],
   "source": [
    "results"
   ]
  },
  {
   "cell_type": "markdown",
   "metadata": {},
   "source": [
    "It looks as if the less clusters we have, the better. Let's try some other clustering algorithms."
   ]
  },
  {
   "cell_type": "code",
   "execution_count": 82,
   "metadata": {},
   "outputs": [
    {
     "ename": "NameError",
     "evalue": "name 'sihouette_score' is not defined",
     "output_type": "error",
     "traceback": [
      "\u001b[1;31m---------------------------------------------------------------------------\u001b[0m",
      "\u001b[1;31mNameError\u001b[0m                                 Traceback (most recent call last)",
      "\u001b[1;32m<ipython-input-82-8b23b3fc9f3d>\u001b[0m in \u001b[0;36m<module>\u001b[1;34m()\u001b[0m\n\u001b[0;32m     10\u001b[0m \u001b[0mlabels\u001b[0m \u001b[1;33m=\u001b[0m \u001b[0mms\u001b[0m\u001b[1;33m.\u001b[0m\u001b[0mlabels_\u001b[0m\u001b[1;33m\u001b[0m\u001b[0m\n\u001b[0;32m     11\u001b[0m \u001b[1;33m\u001b[0m\u001b[0m\n\u001b[1;32m---> 12\u001b[1;33m \u001b[0mms_results\u001b[0m \u001b[1;33m=\u001b[0m \u001b[0msihouette_score\u001b[0m\u001b[1;33m\u001b[0m\u001b[0m\n\u001b[0m",
      "\u001b[1;31mNameError\u001b[0m: name 'sihouette_score' is not defined"
     ]
    }
   ],
   "source": [
    "from sklearn.cluster import MeanShift, estimate_bandwidth\n",
    "\n",
    "bandwidth = estimate_bandwidth(X, quantile=0.2, n_samples=500)\n",
    "\n",
    "# Declare and fit the model.\n",
    "ms = MeanShift(bandwidth=bandwidth, bin_seeding=True)\n",
    "ms.fit(X)\n",
    "\n",
    "# Extract cluster assignments for each data point.\n",
    "labels = ms.labels_\n",
    "\n",
    "ms_results = silhouette_score(X, labels)"
   ]
  },
  {
   "cell_type": "code",
   "execution_count": 84,
   "metadata": {},
   "outputs": [
    {
     "data": {
      "text/plain": [
       "0.5931053858172823"
      ]
     },
     "execution_count": 84,
     "metadata": {},
     "output_type": "execute_result"
    }
   ],
   "source": [
    "ms_results"
   ]
  },
  {
   "cell_type": "code",
   "execution_count": null,
   "metadata": {},
   "outputs": [],
   "source": [
    "from sklearn.cluster import SpectralClustering\n",
    "\n",
    "# We know we're looking for three clusters.\n",
    "for n_clusters in range(2, 6):\n",
    "\n",
    "    # Declare and fit the model.\n",
    "    sc = SpectralClustering(n_clusters=n_clusters)\n",
    "    sc.fit(X)\n",
    "\n",
    "    #Predicted clusters.\n",
    "    predict=sc.fit_predict(X)\n",
    "\n",
    "    sc_results.append(silhouette_score(X, predict))"
   ]
  },
  {
   "cell_type": "code",
   "execution_count": null,
   "metadata": {},
   "outputs": [],
   "source": [
    "def beep_me():\n",
    "    import winsound\n",
    "    frequency = 1800  # Set Frequency To 2500 Hertz\n",
    "    duration = 500  # Set Duration To 1000 ms == 1 second\n",
    "    winsound.Beep(frequency, duration)\n",
    "    \n",
    "beep_me()"
   ]
  }
 ],
 "metadata": {
  "kernelspec": {
   "display_name": "Python 3",
   "language": "python",
   "name": "python3"
  },
  "language_info": {
   "codemirror_mode": {
    "name": "ipython",
    "version": 3
   },
   "file_extension": ".py",
   "mimetype": "text/x-python",
   "name": "python",
   "nbconvert_exporter": "python",
   "pygments_lexer": "ipython3",
   "version": "3.6.4"
  }
 },
 "nbformat": 4,
 "nbformat_minor": 2
}
